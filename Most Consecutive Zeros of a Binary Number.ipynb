{
  "nbformat": 4,
  "nbformat_minor": 0,
  "metadata": {
    "colab": {
      "provenance": [],
      "authorship_tag": "ABX9TyNlXlUXYzbPxEkCrRDDimtf",
      "include_colab_link": true
    },
    "kernelspec": {
      "name": "python3",
      "display_name": "Python 3"
    },
    "language_info": {
      "name": "python"
    }
  },
  "cells": [
    {
      "cell_type": "markdown",
      "metadata": {
        "id": "view-in-github",
        "colab_type": "text"
      },
      "source": [
        "<a href=\"https://colab.research.google.com/github/jakerg1/Codewars-/blob/main/Most%20Consecutive%20Zeros%20of%20a%20Binary%20Number.ipynb\" target=\"_parent\"><img src=\"https://colab.research.google.com/assets/colab-badge.svg\" alt=\"Open In Colab\"/></a>"
      ]
    },
    {
      "cell_type": "markdown",
      "source": [
        "Given a string (str) containing a base-10 integer between 0 and 10000, convert the integer to its binary representation. At that point, obtain a count of the maximum amount of consecutive 0s. From there, return the count in written form with a capital letter.\n",
        "\n",
        "max_consec_zeros(\"9\") => \"Two\"\n",
        "max_consec_zeros(\"13\") => \"One\"\n",
        "max_consec_zeros(\"15\") => \"Zero\"\n",
        "max_consec_zeros(\"42\") => \"One\"\n",
        "max_consec_zeros(\"550\") => \"Three\"\n",
        "In the very first example, we have an argument of \"9\" which is being passed to the method. The binary representation of 9 is 1001 which can be read as: one, zero, zero, one. There are, at most, two consecutive 0s, resulting in the integer 2 as the value of the count. The output in the block of code above reflects the final step of taking 2 from standard form to the written form \"Two\" as prompted.\n",
        "\n",
        "In the very last example, we have an argument of \"550\" which is being passed to the method. The binary representation of 550 is 1000100110 which can be read as: one, zero, zero, zero, one, zero, zero, one, one, zero. There are, at most, three consecutive 0s, resulting in the integer 3 as the value of the count. The output in the block of code above reflects the final step of taking 3 from standard form to the written form of \"Three\" as prompted."
      ],
      "metadata": {
        "id": "8DxZBC9ep97a"
      }
    },
    {
      "cell_type": "code",
      "source": [
        "'''\n",
        "Rules:\n",
        "1. convert number to binary\n",
        "2. count consecutive 0's\n",
        "3. return number of consecutive 0's with a capital letter\n",
        "'''\n",
        "def max_consec_zeros(s):\n",
        "  binary = bin(int(s))[2:] # removes the first to characters, returns in binary\n",
        "  max_zeros = 0\n",
        "  max_seen = 0\n",
        "  for num in binary: # for loop counts zeros resets when interupted by a one\n",
        "    if num == \"0\":\n",
        "      max_zeros += 1\n",
        "      max_seen = max(max_seen, max_zeros) # gives the largest amount of consecutive zeros when max_seen >= max_zeros\n",
        "    if num == \"1\":\n",
        "      max_zeros = 0\n",
        "  num_zeros_words = {    # converts all possible amounts of consecutive zeros to words\n",
        "    0: \"Zero\",\n",
        "    1: \"One\",\n",
        "    2: \"Two\",\n",
        "    3: \"Three\",\n",
        "    4: \"Four\",\n",
        "    5: \"Five\",\n",
        "    6: \"Six\",\n",
        "    7: \"Seven\",\n",
        "    8: \"Eight\",\n",
        "    9: \"Nine\",\n",
        "    10: \"Ten\",\n",
        "    11: \"Eleven\",\n",
        "    12: \"Twelve\",\n",
        "    13: \"Thirteen\",\n",
        "    14: \"Fourteen\",\n",
        "  }\n",
        "  result = num_zeros_words[max_seen]\n",
        "  return result\n",
        "max_consec_zeros(\"893\")\n",
        "\n",
        "\n",
        "\n",
        "\n"
      ],
      "metadata": {
        "colab": {
          "base_uri": "https://localhost:8080/",
          "height": 35
        },
        "id": "PXy92kR6TRlL",
        "outputId": "7e2231ea-33d6-470b-d7f8-83356a3ea1dd"
      },
      "execution_count": 40,
      "outputs": [
        {
          "output_type": "execute_result",
          "data": {
            "text/plain": [
              "'One'"
            ],
            "application/vnd.google.colaboratory.intrinsic+json": {
              "type": "string"
            }
          },
          "metadata": {},
          "execution_count": 40
        }
      ]
    }
  ]
}
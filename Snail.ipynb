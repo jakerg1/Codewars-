{
  "nbformat": 4,
  "nbformat_minor": 0,
  "metadata": {
    "colab": {
      "provenance": []
    },
    "kernelspec": {
      "name": "python3",
      "display_name": "Python 3"
    },
    "language_info": {
      "name": "python"
    }
  },
  "cells": [
    {
      "cell_type": "code",
      "source": [],
      "metadata": {
        "id": "iGfKAidjMgUE",
        "colab": {
          "base_uri": "https://localhost:8080/",
          "height": 211
        },
        "outputId": "823eacc8-0af2-4499-98d1-21cee2bb48b7"
      },
      "execution_count": 21,
      "outputs": [
        {
          "output_type": "error",
          "ename": "IndexError",
          "evalue": "pop index out of range",
          "traceback": [
            "\u001b[0;31m---------------------------------------------------------------------------\u001b[0m",
            "\u001b[0;31mIndexError\u001b[0m                                Traceback (most recent call last)",
            "\u001b[0;32m<ipython-input-21-afb07bc7362f>\u001b[0m in \u001b[0;36m<cell line: 0>\u001b[0;34m()\u001b[0m\n\u001b[1;32m     19\u001b[0m \u001b[0;32mfor\u001b[0m \u001b[0mrow\u001b[0m \u001b[0;32min\u001b[0m \u001b[0marray\u001b[0m\u001b[0;34m[\u001b[0m\u001b[0marr_len\u001b[0m\u001b[0;34m]\u001b[0m\u001b[0;34m:\u001b[0m\u001b[0;34m\u001b[0m\u001b[0;34m\u001b[0m\u001b[0m\n\u001b[1;32m     20\u001b[0m   \u001b[0mlist_of_numbers\u001b[0m\u001b[0;34m.\u001b[0m\u001b[0mappend\u001b[0m\u001b[0;34m(\u001b[0m\u001b[0mrow\u001b[0m\u001b[0;34m)\u001b[0m\u001b[0;34m\u001b[0m\u001b[0;34m\u001b[0m\u001b[0m\n\u001b[0;32m---> 21\u001b[0;31m   \u001b[0marray\u001b[0m\u001b[0;34m.\u001b[0m\u001b[0mpop\u001b[0m\u001b[0;34m(\u001b[0m\u001b[0marr_len\u001b[0m\u001b[0;34m)\u001b[0m\u001b[0;34m\u001b[0m\u001b[0;34m\u001b[0m\u001b[0m\n\u001b[0m\u001b[1;32m     22\u001b[0m \u001b[0;34m\u001b[0m\u001b[0m\n\u001b[1;32m     23\u001b[0m \u001b[0mcolumn_left\u001b[0m \u001b[0;34m=\u001b[0m \u001b[0;34m[\u001b[0m\u001b[0mrow\u001b[0m\u001b[0;34m[\u001b[0m\u001b[0;36m0\u001b[0m\u001b[0;34m]\u001b[0m \u001b[0;32mfor\u001b[0m \u001b[0mrow\u001b[0m \u001b[0;32min\u001b[0m \u001b[0marray\u001b[0m\u001b[0;34m]\u001b[0m\u001b[0;34m\u001b[0m\u001b[0;34m\u001b[0m\u001b[0m\n",
            "\u001b[0;31mIndexError\u001b[0m: pop index out of range"
          ]
        }
      ]
    },
    {
      "cell_type": "code",
      "source": [],
      "metadata": {
        "colab": {
          "base_uri": "https://localhost:8080/"
        },
        "id": "nY5bXPgTuUDj",
        "outputId": "f960abc0-d682-425e-c7e2-60fc099f0ed0"
      },
      "execution_count": 19,
      "outputs": [
        {
          "output_type": "stream",
          "name": "stdout",
          "text": [
            "[3, 6, 9]\n",
            "[1, 4, 7]\n",
            "[1, 2, 3]\n",
            "2\n",
            "[7, 8, 9]\n"
          ]
        }
      ]
    },
    {
      "cell_type": "code",
      "source": [
        "'''\n",
        "Given an n x n array, return the array elements arranged from outermost elements to the middle element, traveling clockwise.\n",
        "array = [[1,2,3],\n",
        "         [4,5,6],\n",
        "         [7,8,9]]\n",
        "snail(array) #=> [1,2,3,6,9,8,7,4,5]\n",
        "For better understanding, please follow the numbers of the next array consecutively:\n",
        "array = [[1,2,3],\n",
        "         [8,9,4],\n",
        "         [7,6,5]]\n",
        "snail(array) #=> [1,2,3,4,5,6,7,8,9]\n",
        "NOTE: The idea is not sort the elements from the lowest value to the highest; the idea is to traverse the 2-d array in a clockwise snailshell pattern.\n",
        "NOTE 2: The 0x0 (empty matrix) is represented as en empty array inside an array [[]].\n",
        "'''\n",
        "\n",
        "def snail(snail_map):\n",
        "\n",
        "  array = snail_map\n",
        "  list_of_numbers = []\n",
        "  repeat = True\n",
        "\n",
        "  while repeat: # Makes the code repeats until repeat = False\n",
        "    if array: # Had to add if statements because appending and poping would give an error if array was already empty\n",
        "      for i in array[0]:\n",
        "        list_of_numbers.append(i) # Adds first row to list_of_numbers\n",
        "      array.pop(0) # Deletes first row\n",
        "\n",
        "    if array and array[0]:\n",
        "      col_len = len(array[0]) - 1\n",
        "      column_right = [row[len(array[0]) - 1] for row in array] # LIST COMPREHENSION\n",
        "      list_of_numbers.extend(column_right) # Appends the column without the []\n",
        "      for row in array:\n",
        "        row.pop(col_len)\n",
        "\n",
        "    if array:\n",
        "      arr_len = len(array) - 1\n",
        "      for row in reversed(array[arr_len]): # Adds row from right to left instead of left to right\n",
        "        list_of_numbers.append(row)\n",
        "      array.pop(arr_len)\n",
        "\n",
        "    if array and array[0]:\n",
        "      column_left = [row[0] for row in reversed(array)]\n",
        "      list_of_numbers.extend(column_left)\n",
        "      for row in array:\n",
        "        row.pop(0)\n",
        "\n",
        "    if not array or not array[0]:\n",
        "      repeat = False # Ends the loop if array is empty\n",
        "  return list_of_numbers\n",
        "\n",
        "snail([[1,2,3],\n",
        "         [4,5,6],\n",
        "         [7,8,9]])"
      ],
      "metadata": {
        "id": "ZzU8QYVIqh9v",
        "colab": {
          "base_uri": "https://localhost:8080/"
        },
        "outputId": "499ade41-3956-4ac5-df25-c3f9ae8b50d3"
      },
      "execution_count": 71,
      "outputs": [
        {
          "output_type": "execute_result",
          "data": {
            "text/plain": [
              "[1, 2, 3, 6, 9, 8, 7, 4, 5]"
            ]
          },
          "metadata": {},
          "execution_count": 71
        }
      ]
    }
  ]
}

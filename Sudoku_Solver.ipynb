{
  "nbformat": 4,
  "nbformat_minor": 0,
  "metadata": {
    "colab": {
      "provenance": [],
      "authorship_tag": "ABX9TyO7yIpNkVAaSJAiBImSk38o",
      "include_colab_link": true
    },
    "kernelspec": {
      "name": "python3",
      "display_name": "Python 3"
    },
    "language_info": {
      "name": "python"
    }
  },
  "cells": [
    {
      "cell_type": "markdown",
      "metadata": {
        "id": "view-in-github",
        "colab_type": "text"
      },
      "source": [
        "<a href=\"https://colab.research.google.com/github/jakerg1/Codewars-/blob/main/CodeWars.ipynb\" target=\"_parent\"><img src=\"https://colab.research.google.com/assets/colab-badge.svg\" alt=\"Open In Colab\"/></a>"
      ]
    },
    {
      "cell_type": "markdown",
      "source": [
        "Write a function that will solve a 9x9 Sudoku puzzle. The function will take one argument consisting of the 2D puzzle array, with the value 0 representing an unknown square.\n",
        "\n",
        "The Sudokus tested against your function will be \"easy\" (i.e. determinable; there will be no need to assume and test possibilities on unknowns) and can be solved with a brute-force approach.\n",
        "\n",
        "For Sudoku rules, see the Wikipedia article.\n",
        "\n",
        "puzzle = [[5,3,0,0,7,0,0,0,0],\n",
        "          [6,0,0,1,9,5,0,0,0],\n",
        "          [0,9,8,0,0,0,0,6,0],\n",
        "          [8,0,0,0,6,0,0,0,3],\n",
        "          [4,0,0,8,0,3,0,0,1],\n",
        "          [7,0,0,0,2,0,0,0,6],\n",
        "          [0,6,0,0,0,0,2,8,0],\n",
        "          [0,0,0,4,1,9,0,0,5],\n",
        "          [0,0,0,0,8,0,0,7,9]]\n",
        "\n",
        "sudoku(puzzle)\n",
        "# Should return\n",
        " [[5,3,4,6,7,8,9,1,2],\n",
        "  [6,7,2,1,9,5,3,4,8],\n",
        "  [1,9,8,3,4,2,5,6,7],\n",
        "  [8,5,9,7,6,1,4,2,3],\n",
        "  [4,2,6,8,5,3,7,9,1],\n",
        "  [7,1,3,9,2,4,8,5,6],\n",
        "  [9,6,1,5,3,7,2,8,4],\n",
        "  [2,8,7,4,1,9,6,3,5],\n",
        "  [3,4,5,2,8,6,1,7,9]]"
      ],
      "metadata": {
        "id": "8DxZBC9ep97a"
      }
    },
    {
      "cell_type": "code",
      "source": [
        "'''\n",
        "Rules:\n",
        "1. rows can't match\n",
        "2. columns can't match\n",
        "3. 3x3 blcocks cant match\n",
        "\n",
        "'''\n",
        "\n",
        "def sudoku(puzzle):\n",
        "  solve_sudoku(puzzle)\n",
        "  return puzzle\n",
        "\n",
        "# Checks if puzzle is solved, assigns the empty spot location to row and col, calls num_fit to check if 1-9 fit and resets empty_spot to zero if none work\n",
        "def solve_sudoku(puzzle):\n",
        "  empty_spot = find_empty(puzzle)\n",
        "  if not empty_spot:\n",
        "    return True\n",
        "  row, col = empty_spot\n",
        "\n",
        "  for num in range(1,10):\n",
        "    if num_fit(puzzle, row, col, num):\n",
        "      puzzle[row][col] = num\n",
        "\n",
        "      if solve_sudoku(puzzle):\n",
        "        return True\n",
        "\n",
        "      puzzle[row][col] = 0\n",
        "\n",
        "  return False\n",
        "\n",
        "# Scans through each spot looking for one with a zero and returns location\n",
        "def find_empty(puzzle):\n",
        "  for row in range(9):\n",
        "    for col in range(9):\n",
        "      if puzzle[row][col] == 0:\n",
        "        return (row, col)\n",
        "  return None\n",
        "\n",
        "# Checks if matching num is in the same row, collumn, or 3x3 box\n",
        "def num_fit(puzzle, row, col, num):\n",
        "  if num in puzzle[row]:\n",
        "    return False\n",
        "  for i in range(9):\n",
        "    if puzzle[i][col] ==num:\n",
        "      return False\n",
        "  vert_box_start = (row // 3) * 3\n",
        "  horz_box_start = (col // 3) * 3\n",
        "  for row in range(vert_box_start, vert_box_start + 3):\n",
        "    for col in range(horz_box_start, horz_box_start + 3):\n",
        "      if puzzle[row][col] == num:\n",
        "        return False\n",
        "  return True\n",
        "\n",
        "sudoku([[5,3,0,0,7,0,0,0,0],\n",
        "        [6,0,0,1,9,5,0,0,0],\n",
        "        [0,9,8,0,0,0,0,6,0],\n",
        "        [8,0,0,0,6,0,0,0,3],\n",
        "        [4,0,0,8,0,3,0,0,1],\n",
        "        [7,0,0,0,2,0,0,0,6],\n",
        "        [0,6,0,0,0,0,2,8,0],\n",
        "        [0,0,0,4,1,9,0,0,5],\n",
        "        [0,0,0,0,8,0,0,7,9]])\n",
        ""
      ],
      "metadata": {
        "colab": {
          "base_uri": "https://localhost:8080/"
        },
        "id": "PXy92kR6TRlL",
        "outputId": "b926603a-0316-4b1a-ce1e-433ac8533355"
      },
      "execution_count": 24,
      "outputs": [
        {
          "output_type": "execute_result",
          "data": {
            "text/plain": [
              "[[5, 3, 4, 6, 7, 8, 9, 1, 2],\n",
              " [6, 7, 2, 1, 9, 5, 3, 4, 8],\n",
              " [1, 9, 8, 3, 4, 2, 5, 6, 7],\n",
              " [8, 5, 9, 7, 6, 1, 4, 2, 3],\n",
              " [4, 2, 6, 8, 5, 3, 7, 9, 1],\n",
              " [7, 1, 3, 9, 2, 4, 8, 5, 6],\n",
              " [9, 6, 1, 5, 3, 7, 2, 8, 4],\n",
              " [2, 8, 7, 4, 1, 9, 6, 3, 5],\n",
              " [3, 4, 5, 2, 8, 6, 1, 7, 9]]"
            ]
          },
          "metadata": {},
          "execution_count": 24
        }
      ]
    }
  ]
}

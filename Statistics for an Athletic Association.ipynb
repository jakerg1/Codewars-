{
  "nbformat": 4,
  "nbformat_minor": 0,
  "metadata": {
    "colab": {
      "provenance": [],
      "authorship_tag": "ABX9TyOebv0XKD5Px+tORIIPwzdl",
      "include_colab_link": true
    },
    "kernelspec": {
      "name": "python3",
      "display_name": "Python 3"
    },
    "language_info": {
      "name": "python"
    }
  },
  "cells": [
    {
      "cell_type": "markdown",
      "metadata": {
        "id": "view-in-github",
        "colab_type": "text"
      },
      "source": [
        "<a href=\"https://colab.research.google.com/github/jakerg1/Codewars-/blob/main/Statistics%20for%20an%20Athletic%20Association.ipynb\" target=\"_parent\"><img src=\"https://colab.research.google.com/assets/colab-badge.svg\" alt=\"Open In Colab\"/></a>"
      ]
    },
    {
      "cell_type": "markdown",
      "source": [
        "You are the \"computer expert\" of a local Athletic Association (C.A.A.). Many teams of runners come to compete. Each time you get a string of all race results of every team who has run. For example here is a string showing the individual results of a team of 5 runners:\n",
        "\n",
        "\"01|15|59, 1|47|6, 01|17|20, 1|32|34, 2|3|17\"\n",
        "\n",
        "Each part of the string is of the form: h|m|s where h, m, s (h for hour, m for minutes, s for seconds) are positive or null integer (represented as strings) with one or two digits. Substrings in the input string are separated by ,  or ,.\n",
        "\n",
        "To compare the results of the teams you are asked for giving three statistics; range, average and median.\n",
        "\n",
        "Range : difference between the lowest and highest values. In {4, 6, 9, 3, 7} the lowest value is 3, and the highest is 9, so the range is 9 − 3 = 6.\n",
        "\n",
        "Mean or Average : To calculate mean, add together all of the numbers and then divide the sum by the total count of numbers.\n",
        "\n",
        "Median : In statistics, the median is the number separating the higher half of a data sample from the lower half. The median of a finite list of numbers can be found by arranging all the observations from lowest value to highest value and picking the middle one (e.g., the median of {3, 3, 5, 9, 11} is 5) when there is an odd number of observations. If there is an even number of observations, then there is no single middle value; the median is then defined to be the mean of the two middle values (the median of {3, 5, 6, 9} is (5 + 6) / 2 = 5.5).\n",
        "\n",
        "Your task is to return a string giving these 3 values. For the example given above, the string result will be\n",
        "\n",
        "\"Range: 00|47|18 Average: 01|35|15 Median: 01|32|34\"\n",
        "\n",
        "of the form: \"Range: hh|mm|ss Average: hh|mm|ss Median: hh|mm|ss\"`\n",
        "\n",
        "where hh, mm, ss are integers (represented by strings) with each 2 digits.\n",
        "\n",
        "Remarks:\n",
        "if a result in seconds is ab.xy... it will be given truncated as ab.\n",
        "if the given string is \"\" you will return \"\""
      ],
      "metadata": {
        "id": "tyEaiKZvWybd"
      }
    },
    {
      "cell_type": "code",
      "execution_count": 19,
      "metadata": {
        "colab": {
          "base_uri": "https://localhost:8080/",
          "height": 72
        },
        "id": "Nl94ogotWo9S",
        "outputId": "bac63288-7872-4995-e283-bb160376083e"
      },
      "outputs": [
        {
          "output_type": "stream",
          "name": "stdout",
          "text": [
            "['01|15|59', ' 1|47|6', ' 01|17|20', ' 1|32|34', ' 2|3|17']\n",
            "[4559, 6426, 4640, 5554, 7397]\n"
          ]
        },
        {
          "output_type": "execute_result",
          "data": {
            "text/plain": [
              "'Range: 00|47|18 Average: 01|35|15 Median: 01|32|34'"
            ],
            "application/vnd.google.colaboratory.intrinsic+json": {
              "type": "string"
            }
          },
          "metadata": {},
          "execution_count": 19
        }
      ],
      "source": [
        "import statistics as stats\n",
        "def stat(strg):\n",
        "  indv_times = strg.split(\",\")\n",
        "  print(indv_times)\n",
        "\n",
        "  def time_sec():\n",
        "    sec_list = []\n",
        "    for time in indv_times:\n",
        "      h, m, s = time.split(\"|\")\n",
        "      h = int(h)\n",
        "      m = int(m)\n",
        "      s = int(s)\n",
        "      tot_time = h * 3600 + m * 60 + s\n",
        "      sec_list.append(tot_time)\n",
        "    return sec_list\n",
        "\n",
        "  time = time_sec()\n",
        "  print(time)\n",
        "\n",
        "  def values(time_list):\n",
        "    time_range = max(time_list) - min(time_list)\n",
        "    time_avg = int(stats.mean(time_list))\n",
        "    time_median = int(stats.median(time_list))\n",
        "    return time_range, time_avg, time_median\n",
        "\n",
        "  time_range, time_avg, time_median = values(time)\n",
        "\n",
        "  def make_readable(seconds):\n",
        "    hours, seconds = divmod(seconds, 60 ** 2)\n",
        "    minutes, seconds = divmod(seconds, 60)\n",
        "    return '{:02}|{:02}|{:02}'.format(hours, minutes, seconds)\n",
        "\n",
        "  range_str = make_readable(time_range)\n",
        "  avg_str = make_readable(time_avg)\n",
        "  median_str = make_readable(time_median)\n",
        "\n",
        "  return f\"Range: {range_str} Average: {avg_str} Median: {median_str}\"\n",
        "\n",
        "stat(\"01|15|59, 1|47|6, 01|17|20, 1|32|34, 2|3|17\")\n"
      ]
    }
  ]
}
{
  "nbformat": 4,
  "nbformat_minor": 0,
  "metadata": {
    "colab": {
      "provenance": [],
      "authorship_tag": "ABX9TyOesg1IuQZYt9Cu988PhJAS",
      "include_colab_link": true
    },
    "kernelspec": {
      "name": "python3",
      "display_name": "Python 3"
    },
    "language_info": {
      "name": "python"
    }
  },
  "cells": [
    {
      "cell_type": "markdown",
      "metadata": {
        "id": "view-in-github",
        "colab_type": "text"
      },
      "source": [
        "<a href=\"https://colab.research.google.com/github/jakerg1/Codewars-/blob/main/Human_Readable_Time.ipynb\" target=\"_parent\"><img src=\"https://colab.research.google.com/assets/colab-badge.svg\" alt=\"Open In Colab\"/></a>"
      ]
    },
    {
      "cell_type": "markdown",
      "source": [
        "Write a function, which takes a non-negative integer (seconds) as input and returns the time in a human-readable format (HH:MM:SS)\n",
        "\n",
        "HH = hours, padded to 2 digits, range: 00 - 99\n",
        "MM = minutes, padded to 2 digits, range: 00 - 59\n",
        "SS = seconds, padded to 2 digits, range: 00 - 59\n",
        "The maximum time never exceeds 359999 (99:59:59)\n",
        "\n",
        "You can find some examples in the test fixtures."
      ],
      "metadata": {
        "id": "tyEaiKZvWybd"
      }
    },
    {
      "cell_type": "code",
      "execution_count": 54,
      "metadata": {
        "colab": {
          "base_uri": "https://localhost:8080/",
          "height": 36
        },
        "id": "Nl94ogotWo9S",
        "outputId": "a2a2545d-b27d-4175-d1ab-44bcd9d8d412"
      },
      "outputs": [
        {
          "output_type": "execute_result",
          "data": {
            "text/plain": [
              "'02:46:40'"
            ],
            "application/vnd.google.colaboratory.intrinsic+json": {
              "type": "string"
            }
          },
          "metadata": {},
          "execution_count": 54
        }
      ],
      "source": [
        "def make_readable(seconds):\n",
        "  seconds_rem = seconds % 60\n",
        "  hrf_seconds = seconds_rem\n",
        "  if len(str((seconds_rem))) == 1:\n",
        "    hrf_seconds = '0' + str(seconds_rem)\n",
        "  if seconds_rem == 0:\n",
        "    hrf_seconds = '00'\n",
        "  minutes = seconds // 60\n",
        "  minutes_rem = minutes % 60\n",
        "  hrf_minutes = minutes_rem\n",
        "  if len(str((minutes_rem))) == 1:\n",
        "    hrf_minutes = '0' + str(minutes_rem)\n",
        "  if minutes_rem == 0:\n",
        "    hrf_minutes = '00'\n",
        "  hours = minutes // 60\n",
        "  hrf_hours = hours\n",
        "  if len(str((hours))) == 1:\n",
        "    hrf_hours = '0' + str(hours)\n",
        "  if hours == 0:\n",
        "    hrf_hours = '00'\n",
        "  return f'{hrf_hours}:{hrf_minutes}:{hrf_seconds}'\n",
        "make_readable(10000)\n"
      ]
    },
    {
      "cell_type": "code",
      "source": [
        "seconds = 5\n",
        "num = '0' + str(seconds)\n",
        "print(num)"
      ],
      "metadata": {
        "colab": {
          "base_uri": "https://localhost:8080/"
        },
        "id": "D6wxsutlXVh5",
        "outputId": "624c2225-4358-4ac8-dca1-5cc6dad5b5f5"
      },
      "execution_count": 22,
      "outputs": [
        {
          "output_type": "stream",
          "name": "stdout",
          "text": [
            "05\n"
          ]
        }
      ]
    }
  ]
}
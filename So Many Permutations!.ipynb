{
  "nbformat": 4,
  "nbformat_minor": 0,
  "metadata": {
    "colab": {
      "provenance": [],
      "authorship_tag": "ABX9TyNWeVq9D2qh67U8sZ3sVDF5",
      "include_colab_link": true
    },
    "kernelspec": {
      "name": "python3",
      "display_name": "Python 3"
    },
    "language_info": {
      "name": "python"
    }
  },
  "cells": [
    {
      "cell_type": "markdown",
      "metadata": {
        "id": "view-in-github",
        "colab_type": "text"
      },
      "source": [
        "<a href=\"https://colab.research.google.com/github/jakerg1/Codewars-/blob/main/So%20Many%20Permutations!.ipynb\" target=\"_parent\"><img src=\"https://colab.research.google.com/assets/colab-badge.svg\" alt=\"Open In Colab\"/></a>"
      ]
    },
    {
      "cell_type": "markdown",
      "source": [
        "In this kata, your task is to create all permutations of a non-empty input string and remove duplicates, if present.\n",
        "\n",
        "Create as many \"shufflings\" as you can!\n",
        "\n",
        "Examples:\n",
        "\n",
        "With input 'a':\n",
        "Your function should return: ['a']\n",
        "\n",
        "With input 'ab':\n",
        "Your function should return ['ab', 'ba']\n",
        "\n",
        "With input 'abc':\n",
        "Your function should return ['abc','acb','bac','bca','cab','cba']\n",
        "\n",
        "With input 'aabb':\n",
        "Your function should return ['aabb', 'abab', 'abba', 'baab', 'baba', 'bbaa']\n",
        "Note: The order of the permutations doesn't matter.\n",
        "\n",
        "Good luck!"
      ],
      "metadata": {
        "id": "8DxZBC9ep97a"
      }
    },
    {
      "cell_type": "code",
      "source": [
        "import itertools\n",
        "\n",
        "def permutations(s):\n",
        "    if len(s) == 1:\n",
        "        return [s]\n",
        "\n",
        "    s_lst = list(s)\n",
        "    all_perms = itertools.permutations(s_lst) # Gives all combinations of s\n",
        "\n",
        "    no_dupes = set() # Set() stores the combinations without an duplicates\n",
        "    for p in all_perms:\n",
        "        shufflings = ''.join(p)\n",
        "        no_dupes.add(shufflings)\n",
        "\n",
        "    return list(no_dupes)\n"
      ],
      "metadata": {
        "id": "Hp_Ki7O5MiRI"
      },
      "execution_count": null,
      "outputs": []
    }
  ]
}